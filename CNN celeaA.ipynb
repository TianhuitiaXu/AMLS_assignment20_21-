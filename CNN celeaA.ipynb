{
 "cells": [
  {
   "cell_type": "code",
   "execution_count": 13,
   "metadata": {},
   "outputs": [
    {
     "name": "stderr",
     "output_type": "stream",
     "text": [
      "C:\\Users\\93554\\anaconda3\\envs\\mytf\\lib\\site-packages\\ipykernel_launcher.py:14: SettingWithCopyWarning: \n",
      "A value is trying to be set on a copy of a slice from a DataFrame\n",
      "\n",
      "See the caveats in the documentation: https://pandas.pydata.org/pandas-docs/stable/user_guide/indexing.html#returning-a-view-versus-a-copy\n",
      "  \n",
      "C:\\Users\\93554\\anaconda3\\envs\\mytf\\lib\\site-packages\\ipykernel_launcher.py:16: SettingWithCopyWarning: \n",
      "A value is trying to be set on a copy of a slice from a DataFrame\n",
      "\n",
      "See the caveats in the documentation: https://pandas.pydata.org/pandas-docs/stable/user_guide/indexing.html#returning-a-view-versus-a-copy\n",
      "  app.launch_new_instance()\n",
      "C:\\Users\\93554\\anaconda3\\envs\\mytf\\lib\\site-packages\\ipykernel_launcher.py:21: SettingWithCopyWarning: \n",
      "A value is trying to be set on a copy of a slice from a DataFrame\n",
      "\n",
      "See the caveats in the documentation: https://pandas.pydata.org/pandas-docs/stable/user_guide/indexing.html#returning-a-view-versus-a-copy\n",
      "C:\\Users\\93554\\anaconda3\\envs\\mytf\\lib\\site-packages\\ipykernel_launcher.py:19: SettingWithCopyWarning: \n",
      "A value is trying to be set on a copy of a slice from a DataFrame\n",
      "\n",
      "See the caveats in the documentation: https://pandas.pydata.org/pandas-docs/stable/user_guide/indexing.html#returning-a-view-versus-a-copy\n"
     ]
    }
   ],
   "source": [
    "import csv\n",
    "import numpy as np\n",
    "import pandas as pd\n",
    "#-------------read data_panda\n",
    "name = ['gender', 'smiling']\n",
    "#data = pd.read_csv('./dataset_AMLS_20-21/celeba/labels.csv',sep='\\t',header=0,names = name)\n",
    "data = pd.read_csv('./dataset_AMLS_20-21/celeba/labels.csv',sep='\\t')\n",
    "Y_A10=data['gender']\n",
    "Y_A11=data['smiling']\n",
    "y_1 = Y_A10\n",
    "y_2 = Y_A11\n",
    "for i in range(y_1.shape[0]):\n",
    "    if y_1[i] == -1:\n",
    "        y_1[i] = 0\n",
    "    else:\n",
    "        y_1[i] = 1 #防止标签出现负数，如果这里负数的话后面计算loss就会出现nan\n",
    "for i in range(y_2.shape[0]):\n",
    "    if y_2[i] == -1:\n",
    "        y_2[i] = 0\n",
    "    else:\n",
    "        y_2[i] = 1\n",
    "\n",
    "data_csv = open('data.csv', 'r', newline = '')\n",
    "#read cvs file\n",
    "reader = csv.reader(data_csv)\n",
    "rows= [row for row in reader]\n",
    "data_csv.close()\n",
    "def listToString(s):      \n",
    "    str1 = \" \"      \n",
    "    return (str1.join(s)) \n",
    "X = np.zeros((5000,38804),dtype='float')\n",
    "for i in range(len(rows)):\n",
    "    str0 = listToString(rows[i])\n",
    "    x = str0.split(' ')\n",
    "#list-str-float\n",
    "    for j in range(X.shape[1]):\n",
    "        x[j] = float(x[j])\n",
    "    X[i,:] = x\n",
    "X = X.reshape((5000,178,218,1))"
   ]
  },
  {
   "cell_type": "code",
   "execution_count": 29,
   "metadata": {},
   "outputs": [
    {
     "ename": "NameError",
     "evalue": "name 'X' is not defined",
     "output_type": "error",
     "traceback": [
      "\u001b[1;31m---------------------------------------------------------------------------\u001b[0m",
      "\u001b[1;31mNameError\u001b[0m                                 Traceback (most recent call last)",
      "\u001b[1;32m<ipython-input-29-8b23ba678fba>\u001b[0m in \u001b[0;36m<module>\u001b[1;34m\u001b[0m\n\u001b[1;32m----> 1\u001b[1;33m \u001b[0mprint\u001b[0m\u001b[1;33m(\u001b[0m\u001b[0mX\u001b[0m\u001b[1;33m[\u001b[0m\u001b[1;36m0\u001b[0m\u001b[1;33m,\u001b[0m\u001b[1;36m0\u001b[0m\u001b[1;33m,\u001b[0m\u001b[1;36m0\u001b[0m\u001b[1;33m,\u001b[0m\u001b[1;36m0\u001b[0m\u001b[1;33m]\u001b[0m\u001b[1;33m)\u001b[0m\u001b[1;33m\u001b[0m\u001b[1;33m\u001b[0m\u001b[0m\n\u001b[0m",
      "\u001b[1;31mNameError\u001b[0m: name 'X' is not defined"
     ]
    }
   ],
   "source": [
    "print(X[0,0,0,0])"
   ]
  },
  {
   "cell_type": "code",
   "execution_count": 26,
   "metadata": {},
   "outputs": [],
   "source": [
    "yy_1 = y_1.to_numpy()"
   ]
  },
  {
   "cell_type": "code",
   "execution_count": 27,
   "metadata": {},
   "outputs": [
    {
     "name": "stdout",
     "output_type": "stream",
     "text": [
      "<class 'numpy.ndarray'>\n"
     ]
    }
   ],
   "source": [
    "print(type(yy_1))"
   ]
  },
  {
   "cell_type": "code",
   "execution_count": 1,
   "metadata": {},
   "outputs": [],
   "source": [
    "import tensorflow as tf\n",
    "import os\n",
    "import numpy as np\n",
    "from matplotlib import pyplot as plt\n",
    "from tensorflow.keras.layers import Conv2D, BatchNormalization, Activation, MaxPool2D, Dropout, Flatten, Dense\n",
    "from tensorflow.keras import Model"
   ]
  },
  {
   "cell_type": "code",
   "execution_count": 40,
   "metadata": {},
   "outputs": [],
   "source": [
    "from tensorflow import keras"
   ]
  },
  {
   "cell_type": "code",
   "execution_count": 2,
   "metadata": {},
   "outputs": [],
   "source": [
    "from sklearn.metrics import classification_report,accuracy_score\n",
    "from sklearn.model_selection import train_test_split\n",
    "from sklearn.utils import shuffle"
   ]
  },
  {
   "cell_type": "code",
   "execution_count": 48,
   "metadata": {},
   "outputs": [],
   "source": [
    "import landmarks as l2\n",
    "def get_data():\n",
    "\n",
    "    X, y = l2.extract_features_labels()\n",
    "    #Y = np.array([y, -(y - 1)]).T\n",
    "    # Shuffle and split the data into training and test set\n",
    "    X, y = shuffle(X,y)\n",
    "    x_train, x_test, y_train, y_test = train_test_split(X, y, train_size=0.7)\n",
    "#     tr_X = X[:100]\n",
    "#     tr_Y = Y[:100]\n",
    "#     te_X = X[100:]\n",
    "#     te_Y = Y[100:]\n",
    "    return x_train, y_train, x_test, y_test"
   ]
  },
  {
   "cell_type": "code",
   "execution_count": 49,
   "metadata": {},
   "outputs": [
    {
     "name": "stdout",
     "output_type": "stream",
     "text": [
      "./dataset_AMLS_20-21\\celeba\\img\n"
     ]
    }
   ],
   "source": [
    "x_train, y_train, x_test, y_test = get_data()#这里已经包含split"
   ]
  },
  {
   "cell_type": "code",
   "execution_count": 51,
   "metadata": {},
   "outputs": [
    {
     "name": "stdout",
     "output_type": "stream",
     "text": [
      "(3356, 68, 2) (3356,) (1439,)\n"
     ]
    }
   ],
   "source": [
    "print(x_train.shape,y_train.shape,y_test.shape)"
   ]
  },
  {
   "cell_type": "code",
   "execution_count": 52,
   "metadata": {},
   "outputs": [
    {
     "name": "stdout",
     "output_type": "stream",
     "text": [
      "0.13725490196078433\n"
     ]
    }
   ],
   "source": [
    "x_train = x_train.reshape((3356,68,2,1))\n",
    "x_test = x_test.reshape((1439,68,2,1))\n",
    "#print(y_train.shape)\n",
    "y_train = y_train.astype(float)\n",
    "y_test = y_test.astype(float)\n",
    "x_train = x_train.astype(float)/255\n",
    "x_test = x_test.astype(float)/255\n",
    "print(x_test[0,0,0,0])"
   ]
  },
  {
   "cell_type": "code",
   "execution_count": 28,
   "metadata": {},
   "outputs": [],
   "source": [
    "from sklearn.model_selection import train_test_split\n",
    "\n",
    "x_train, x_test, y_train, y_test = train_test_split(X, yy_1,random_state=0)"
   ]
  },
  {
   "cell_type": "code",
   "execution_count": 53,
   "metadata": {},
   "outputs": [
    {
     "name": "stdout",
     "output_type": "stream",
     "text": [
      "Train on 3356 samples, validate on 1439 samples\n",
      "Epoch 1/50\n",
      "3356/3356 [==============================] - 1s 291us/sample - loss: 0.6924 - sparse_categorical_accuracy: 0.5396 - val_loss: 0.6888 - val_sparse_categorical_accuracy: 0.5142\n",
      "Epoch 2/50\n",
      "3356/3356 [==============================] - 0s 147us/sample - loss: 0.6534 - sparse_categorical_accuracy: 0.6085 - val_loss: 0.6781 - val_sparse_categorical_accuracy: 0.8826\n",
      "Epoch 3/50\n",
      "3356/3356 [==============================] - 1s 149us/sample - loss: 0.6167 - sparse_categorical_accuracy: 0.6606 - val_loss: 0.6520 - val_sparse_categorical_accuracy: 0.7512\n",
      "Epoch 4/50\n",
      "3356/3356 [==============================] - 1s 157us/sample - loss: 0.5531 - sparse_categorical_accuracy: 0.7190 - val_loss: 0.5963 - val_sparse_categorical_accuracy: 0.8846\n",
      "Epoch 5/50\n",
      "3356/3356 [==============================] - 1s 153us/sample - loss: 0.4975 - sparse_categorical_accuracy: 0.7589 - val_loss: 0.5419 - val_sparse_categorical_accuracy: 0.6845\n",
      "Epoch 6/50\n",
      "3356/3356 [==============================] - 1s 156us/sample - loss: 0.4643 - sparse_categorical_accuracy: 0.7780 - val_loss: 0.4307 - val_sparse_categorical_accuracy: 0.8499\n",
      "Epoch 7/50\n",
      "3356/3356 [==============================] - 1s 152us/sample - loss: 0.4543 - sparse_categorical_accuracy: 0.7872 - val_loss: 0.3768 - val_sparse_categorical_accuracy: 0.8617\n",
      "Epoch 8/50\n",
      "3356/3356 [==============================] - 0s 143us/sample - loss: 0.4208 - sparse_categorical_accuracy: 0.8081 - val_loss: 0.3287 - val_sparse_categorical_accuracy: 0.8895\n",
      "Epoch 9/50\n",
      "3356/3356 [==============================] - 1s 150us/sample - loss: 0.4035 - sparse_categorical_accuracy: 0.8081 - val_loss: 0.3302 - val_sparse_categorical_accuracy: 0.8819\n",
      "Epoch 10/50\n",
      "3356/3356 [==============================] - 0s 148us/sample - loss: 0.4023 - sparse_categorical_accuracy: 0.8099 - val_loss: 0.3555 - val_sparse_categorical_accuracy: 0.8409\n",
      "Epoch 11/50\n",
      "3356/3356 [==============================] - 1s 161us/sample - loss: 0.3946 - sparse_categorical_accuracy: 0.8173 - val_loss: 0.5442 - val_sparse_categorical_accuracy: 0.7158\n",
      "Epoch 12/50\n",
      "3356/3356 [==============================] - 1s 153us/sample - loss: 0.3875 - sparse_categorical_accuracy: 0.8194 - val_loss: 0.3115 - val_sparse_categorical_accuracy: 0.8826\n",
      "Epoch 13/50\n",
      "3356/3356 [==============================] - 0s 146us/sample - loss: 0.3742 - sparse_categorical_accuracy: 0.8275 - val_loss: 0.7483 - val_sparse_categorical_accuracy: 0.6136\n",
      "Epoch 14/50\n",
      "3356/3356 [==============================] - 1s 163us/sample - loss: 0.3661 - sparse_categorical_accuracy: 0.8361 - val_loss: 0.3065 - val_sparse_categorical_accuracy: 0.8826\n",
      "Epoch 15/50\n",
      "3356/3356 [==============================] - 1s 159us/sample - loss: 0.3629 - sparse_categorical_accuracy: 0.8334 - val_loss: 0.2968 - val_sparse_categorical_accuracy: 0.8784\n",
      "Epoch 16/50\n",
      "3356/3356 [==============================] - 1s 152us/sample - loss: 0.3662 - sparse_categorical_accuracy: 0.8352 - val_loss: 0.3354 - val_sparse_categorical_accuracy: 0.8492\n",
      "Epoch 17/50\n",
      "3356/3356 [==============================] - 1s 156us/sample - loss: 0.3600 - sparse_categorical_accuracy: 0.8382 - val_loss: 0.3998 - val_sparse_categorical_accuracy: 0.8200\n",
      "Epoch 18/50\n",
      "3356/3356 [==============================] - 1s 163us/sample - loss: 0.3540 - sparse_categorical_accuracy: 0.8433 - val_loss: 0.5808 - val_sparse_categorical_accuracy: 0.7415\n",
      "Epoch 19/50\n",
      "3356/3356 [==============================] - 1s 164us/sample - loss: 0.3401 - sparse_categorical_accuracy: 0.8504 - val_loss: 0.4236 - val_sparse_categorical_accuracy: 0.8131\n",
      "Epoch 20/50\n",
      "3356/3356 [==============================] - 1s 154us/sample - loss: 0.3545 - sparse_categorical_accuracy: 0.8459 - val_loss: 0.5592 - val_sparse_categorical_accuracy: 0.7505\n",
      "Epoch 21/50\n",
      "3356/3356 [==============================] - 1s 167us/sample - loss: 0.3359 - sparse_categorical_accuracy: 0.8459 - val_loss: 0.9367 - val_sparse_categorical_accuracy: 0.6546\n",
      "Epoch 22/50\n",
      "3356/3356 [==============================] - 1s 164us/sample - loss: 0.3462 - sparse_categorical_accuracy: 0.8451 - val_loss: 0.2906 - val_sparse_categorical_accuracy: 0.8714\n",
      "Epoch 23/50\n",
      "3356/3356 [==============================] - ETA: 0s - loss: 0.3274 - sparse_categorical_accuracy: 0.853 - 1s 164us/sample - loss: 0.3291 - sparse_categorical_accuracy: 0.8525 - val_loss: 0.3323 - val_sparse_categorical_accuracy: 0.8499\n",
      "Epoch 24/50\n",
      "3356/3356 [==============================] - 1s 182us/sample - loss: 0.3401 - sparse_categorical_accuracy: 0.8436 - val_loss: 0.2689 - val_sparse_categorical_accuracy: 0.8860\n",
      "Epoch 25/50\n",
      "3356/3356 [==============================] - 1s 159us/sample - loss: 0.3352 - sparse_categorical_accuracy: 0.8552 - val_loss: 0.3942 - val_sparse_categorical_accuracy: 0.8193\n",
      "Epoch 26/50\n",
      "3356/3356 [==============================] - 1s 157us/sample - loss: 0.3302 - sparse_categorical_accuracy: 0.8579 - val_loss: 0.3728 - val_sparse_categorical_accuracy: 0.8311\n",
      "Epoch 27/50\n",
      "3356/3356 [==============================] - 1s 152us/sample - loss: 0.3252 - sparse_categorical_accuracy: 0.8567 - val_loss: 0.2993 - val_sparse_categorical_accuracy: 0.8763\n",
      "Epoch 28/50\n",
      "3356/3356 [==============================] - 1s 156us/sample - loss: 0.3387 - sparse_categorical_accuracy: 0.8495 - val_loss: 0.3180 - val_sparse_categorical_accuracy: 0.8617\n",
      "Epoch 29/50\n",
      "3356/3356 [==============================] - 0s 149us/sample - loss: 0.3314 - sparse_categorical_accuracy: 0.8540 - val_loss: 0.3226 - val_sparse_categorical_accuracy: 0.8582\n",
      "Epoch 30/50\n",
      "3356/3356 [==============================] - 1s 156us/sample - loss: 0.3215 - sparse_categorical_accuracy: 0.8519 - val_loss: 0.6946 - val_sparse_categorical_accuracy: 0.7005\n",
      "Epoch 31/50\n",
      "3356/3356 [==============================] - 1s 157us/sample - loss: 0.3350 - sparse_categorical_accuracy: 0.8516 - val_loss: 0.3816 - val_sparse_categorical_accuracy: 0.8297\n",
      "Epoch 32/50\n",
      "3356/3356 [==============================] - 1s 158us/sample - loss: 0.3218 - sparse_categorical_accuracy: 0.8573 - val_loss: 0.2612 - val_sparse_categorical_accuracy: 0.8895\n",
      "Epoch 33/50\n",
      "3356/3356 [==============================] - 1s 151us/sample - loss: 0.3213 - sparse_categorical_accuracy: 0.8513 - val_loss: 0.3003 - val_sparse_categorical_accuracy: 0.8687\n",
      "Epoch 34/50\n",
      "3356/3356 [==============================] - 1s 154us/sample - loss: 0.3216 - sparse_categorical_accuracy: 0.8504 - val_loss: 0.2596 - val_sparse_categorical_accuracy: 0.8902\n",
      "Epoch 35/50\n",
      "3356/3356 [==============================] - 1s 154us/sample - loss: 0.3265 - sparse_categorical_accuracy: 0.8632 - val_loss: 0.2706 - val_sparse_categorical_accuracy: 0.8812\n",
      "Epoch 36/50\n",
      "3356/3356 [==============================] - 1s 159us/sample - loss: 0.3270 - sparse_categorical_accuracy: 0.8528 - val_loss: 0.5532 - val_sparse_categorical_accuracy: 0.7338\n",
      "Epoch 37/50\n",
      "3356/3356 [==============================] - 1s 158us/sample - loss: 0.3224 - sparse_categorical_accuracy: 0.8555 - val_loss: 0.2827 - val_sparse_categorical_accuracy: 0.8770\n",
      "Epoch 38/50\n",
      "3356/3356 [==============================] - 1s 161us/sample - loss: 0.3283 - sparse_categorical_accuracy: 0.8543 - val_loss: 0.2649 - val_sparse_categorical_accuracy: 0.8965\n",
      "Epoch 39/50\n",
      "3356/3356 [==============================] - 1s 157us/sample - loss: 0.3315 - sparse_categorical_accuracy: 0.8528 - val_loss: 0.4157 - val_sparse_categorical_accuracy: 0.7894\n",
      "Epoch 40/50\n",
      "3356/3356 [==============================] - 1s 156us/sample - loss: 0.3196 - sparse_categorical_accuracy: 0.8641 - val_loss: 0.2981 - val_sparse_categorical_accuracy: 0.8853\n",
      "Epoch 41/50\n",
      "3356/3356 [==============================] - 1s 156us/sample - loss: 0.3227 - sparse_categorical_accuracy: 0.8555 - val_loss: 0.2853 - val_sparse_categorical_accuracy: 0.8694\n",
      "Epoch 42/50\n",
      "3356/3356 [==============================] - 1s 164us/sample - loss: 0.3249 - sparse_categorical_accuracy: 0.8605 - val_loss: 0.3569 - val_sparse_categorical_accuracy: 0.8416\n",
      "Epoch 43/50\n",
      "3356/3356 [==============================] - 0s 148us/sample - loss: 0.3107 - sparse_categorical_accuracy: 0.8603 - val_loss: 0.3153 - val_sparse_categorical_accuracy: 0.8562\n",
      "Epoch 44/50\n"
     ]
    },
    {
     "name": "stdout",
     "output_type": "stream",
     "text": [
      "3356/3356 [==============================] - 1s 156us/sample - loss: 0.3130 - sparse_categorical_accuracy: 0.8561 - val_loss: 0.2998 - val_sparse_categorical_accuracy: 0.8714\n",
      "Epoch 45/50\n",
      "3356/3356 [==============================] - 0s 148us/sample - loss: 0.3165 - sparse_categorical_accuracy: 0.8623 - val_loss: 0.3104 - val_sparse_categorical_accuracy: 0.8645\n",
      "Epoch 46/50\n",
      "3356/3356 [==============================] - 1s 151us/sample - loss: 0.3153 - sparse_categorical_accuracy: 0.8603 - val_loss: 0.5602 - val_sparse_categorical_accuracy: 0.7533\n",
      "Epoch 47/50\n",
      "3356/3356 [==============================] - 1s 155us/sample - loss: 0.3153 - sparse_categorical_accuracy: 0.8704 - val_loss: 0.4210 - val_sparse_categorical_accuracy: 0.8186\n",
      "Epoch 48/50\n",
      "3356/3356 [==============================] - 1s 158us/sample - loss: 0.3176 - sparse_categorical_accuracy: 0.8570 - val_loss: 0.3302 - val_sparse_categorical_accuracy: 0.8499\n",
      "Epoch 49/50\n",
      "3356/3356 [==============================] - 1s 155us/sample - loss: 0.3126 - sparse_categorical_accuracy: 0.8638 - val_loss: 0.2597 - val_sparse_categorical_accuracy: 0.8930\n",
      "Epoch 50/50\n",
      "3356/3356 [==============================] - 1s 156us/sample - loss: 0.3240 - sparse_categorical_accuracy: 0.8597 - val_loss: 0.2838 - val_sparse_categorical_accuracy: 0.8791\n",
      "Model: \"baseline_20\"\n",
      "_________________________________________________________________\n",
      "Layer (type)                 Output Shape              Param #   \n",
      "=================================================================\n",
      "conv2d_20 (Conv2D)           multiple                  156       \n",
      "_________________________________________________________________\n",
      "batch_normalization_20 (Batc multiple                  24        \n",
      "_________________________________________________________________\n",
      "activation_20 (Activation)   multiple                  0         \n",
      "_________________________________________________________________\n",
      "max_pooling2d_20 (MaxPooling multiple                  0         \n",
      "_________________________________________________________________\n",
      "dropout_40 (Dropout)         multiple                  0         \n",
      "_________________________________________________________________\n",
      "flatten_20 (Flatten)         multiple                  0         \n",
      "_________________________________________________________________\n",
      "dense_40 (Dense)             multiple                  10250     \n",
      "_________________________________________________________________\n",
      "dropout_41 (Dropout)         multiple                  0         \n",
      "_________________________________________________________________\n",
      "dense_41 (Dense)             multiple                  102       \n",
      "=================================================================\n",
      "Total params: 10,532\n",
      "Trainable params: 10,520\n",
      "Non-trainable params: 12\n",
      "_________________________________________________________________\n"
     ]
    },
    {
     "data": {
      "image/png": "[encoded data removed]",
      "text/plain": [
       "<Figure size 432x288 with 2 Axes>"
      ]
     },
     "metadata": {
      "needs_background": "light"
     },
     "output_type": "display_data"
    }
   ],
   "source": [
    "#如果直接用原数据集，准确率77.几。。。可能是神经元个数设置不合理\n",
    "# np.set_printoptions(threshold=np.inf)\n",
    "\n",
    "class Baseline(Model):\n",
    "    def __init__(self):\n",
    "        super(Baseline, self).__init__()\n",
    "        self.c1 = Conv2D(filters=6, kernel_size=(5, 5), padding='same')  # 卷积层\n",
    "        self.b1 = BatchNormalization()  # BN层\n",
    "        self.a1 = Activation('relu')  # 激活层\n",
    "        self.p1 = MaxPool2D(pool_size=(2, 2), strides=2, padding='same')  # 池化层\n",
    "        self.d1 = Dropout(0.2)  # dropout层\n",
    "\n",
    "        self.flatten = Flatten()\n",
    "        self.f1 = Dense(50, activation='relu')\n",
    "        self.d2 = Dropout(0.2)\n",
    "        self.f2 = Dense(2, activation='softmax')\n",
    "\n",
    "    def call(self, x):\n",
    "        x = self.c1(x)\n",
    "        x = self.b1(x)\n",
    "        x = self.a1(x)\n",
    "        x = self.p1(x)\n",
    "        x = self.d1(x)\n",
    "\n",
    "        x = self.flatten(x)\n",
    "        x = self.f1(x)\n",
    "        x = self.d2(x)\n",
    "        y = self.f2(x)\n",
    "        return y\n",
    "\n",
    "\n",
    "model = Baseline()\n",
    "\n",
    "opt = keras.optimizers.Adam(learning_rate=0.0005)\n",
    "model.compile(optimizer=opt,\n",
    "              loss=tf.keras.losses.SparseCategoricalCrossentropy(from_logits=False),\n",
    "              metrics=['sparse_categorical_accuracy'])\n",
    "\n",
    "# checkpoint_save_path = \"./checkpoint/Baseline.ckpt\"\n",
    "# if os.path.exists(checkpoint_save_path + '.index'):\n",
    "#     print('-------------load the model-----------------')\n",
    "#     model.load_weights(checkpoint_save_path)\n",
    "\n",
    "# cp_callback = tf.keras.callbacks.ModelCheckpoint(filepath=checkpoint_save_path,\n",
    "#                                                  save_weights_only=True,\n",
    "#                                                  save_best_only=True)\n",
    "\n",
    "# #history = model.fit(x_train, y_train, batch_size=32, epochs=15, validation_data=(x_test, y_test), validation_freq=1,\n",
    "#                     callbacks=[cp_callback])\n",
    "\n",
    "history = model.fit(x_train, y_train, batch_size=32, epochs=50, validation_data=(x_test, y_test), validation_freq=1)\n",
    "\n",
    "model.summary()\n",
    "\n",
    "# print(model.trainable_variables)\n",
    "file = open('./weights.txt', 'w')\n",
    "for v in model.trainable_variables:\n",
    "    file.write(str(v.name) + '\\n')\n",
    "    file.write(str(v.shape) + '\\n')\n",
    "    file.write(str(v.numpy()) + '\\n')\n",
    "file.close()\n",
    "\n",
    "###############################################    show   ###############################################\n",
    "\n",
    "# 显示训练集和验证集的acc和loss曲线\n",
    "acc = history.history['sparse_categorical_accuracy']\n",
    "val_acc = history.history['val_sparse_categorical_accuracy']\n",
    "loss = history.history['loss']\n",
    "val_loss = history.history['val_loss']\n",
    "\n",
    "plt.subplot(1, 2, 1)\n",
    "plt.plot(acc, label='Training Accuracy')\n",
    "plt.plot(val_acc, label='Validation Accuracy')\n",
    "plt.title('Training and Validation Accuracy')\n",
    "plt.legend()\n",
    "\n",
    "plt.subplot(1, 2, 2)\n",
    "plt.plot(loss, label='Training Loss')\n",
    "plt.plot(val_loss, label='Validation Loss')\n",
    "plt.title('Training and Validation Loss')\n",
    "plt.legend()\n",
    "plt.show()"
   ]
  },
  {
   "cell_type": "code",
   "execution_count": null,
   "metadata": {},
   "outputs": [],
   "source": []
  }
 ],
 "metadata": {
  "kernelspec": {
   "display_name": "Python 3",
   "language": "python",
   "name": "python3"
  },
  "language_info": {
   "codemirror_mode": {
    "name": "ipython",
    "version": 3
   },
   "file_extension": ".py",
   "mimetype": "text/x-python",
   "name": "python",
   "nbconvert_exporter": "python",
   "pygments_lexer": "ipython3",
   "version": "3.6.12"
  }
 },
 "nbformat": 4,
 "nbformat_minor": 4
}
