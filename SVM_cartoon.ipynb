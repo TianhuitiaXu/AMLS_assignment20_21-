{
 "cells": [
  {
   "cell_type": "code",
   "execution_count": 1,
   "metadata": {},
   "outputs": [
    {
     "name": "stderr",
     "output_type": "stream",
     "text": [
      "Using TensorFlow backend.\n"
     ]
    }
   ],
   "source": [
    "import numpy as np \n",
    "import pandas as pd \n",
    "import matplotlib.pyplot as plt \n",
    "from sklearn.model_selection import train_test_split\n",
    "from tqdm import tqdm\n",
    "from keras.preprocessing import image \n",
    "from sklearn.utils import shuffle"
   ]
  },
  {
   "cell_type": "code",
   "execution_count": 2,
   "metadata": {},
   "outputs": [],
   "source": [
    "# import os\n",
    "# os.environ['CUDA_VISIBLE_DEVICES'] = '1'"
   ]
  },
  {
   "cell_type": "code",
   "execution_count": 8,
   "metadata": {},
   "outputs": [],
   "source": [
    "import cartoon_landmarks as ca"
   ]
  },
  {
   "cell_type": "code",
   "execution_count": 19,
   "metadata": {},
   "outputs": [],
   "source": [
    "def get_data():\n",
    "\n",
    "    X, y = extract_features_labels()\n",
    "#     Y = np.array([y, -(y - 1)]).T\n",
    "#     tr_X = X[:100]\n",
    "#     tr_Y = Y[:100]\n",
    "#     te_X = X[100:]\n",
    "#     te_Y = Y[100:]\n",
    "    tr_X, te_X, tr_Y, te_Y = train_test_split(X, y,random_state=0)\n",
    "\n",
    "    return tr_X, tr_Y, te_X, te_Y"
   ]
  },
  {
   "cell_type": "code",
   "execution_count": 3,
   "metadata": {},
   "outputs": [],
   "source": [
    "#\n",
    "name = ['eye_color', 'face_shape']\n",
    "#data = pd.read_csv('./dataset_AMLS_20-21/celeba/labels.csv',sep='\\t',header=0,names = name)\n",
    "data = pd.read_csv('./dataset_AMLS_20-21/cartoon_set/labels.csv',sep='\\t')\n",
    "Y_A10=data['eye_color']\n",
    "Y_A11=data['face_shape']"
   ]
  },
  {
   "cell_type": "code",
   "execution_count": 4,
   "metadata": {},
   "outputs": [
    {
     "name": "stderr",
     "output_type": "stream",
     "text": [
      "100%|██████████| 10000/10000 [00:46<00:00, 216.86it/s]\n"
     ]
    }
   ],
   "source": [
    "#\n",
    "#图片读取\n",
    "train_image = [] \n",
    "for i in tqdm(range(data.shape[0])):\n",
    "    #img = image.load_img('./dataset_AMLS_20-21/celeba/img/'+str(i)+'.jpg', color_mode='rgb', target_size=None, grayscale=False)\n",
    "    img = image.load_img('./dataset_AMLS_20-21/cartoon_set/img/'+str(i)+'.png', target_size=None, grayscale=True)\n",
    "    img = image.img_to_array(img)     \n",
    "    img = img/255     \n",
    "    train_image.append(img) \n",
    "X = np.array(train_image)"
   ]
  },
  {
   "cell_type": "code",
   "execution_count": 5,
   "metadata": {},
   "outputs": [],
   "source": [
    "#\n",
    "X, Y_A10 = shuffle(X,Y_A10)\n",
    "x_train, x_test, y_train, y_test = train_test_split(X, Y_A10,random_state=0)"
   ]
  },
  {
   "cell_type": "code",
   "execution_count": 17,
   "metadata": {},
   "outputs": [],
   "source": [
    "from sklearn.metrics import classification_report,accuracy_score\n",
    "from sklearn import svm\n",
    "from sklearn.svm import SVC"
   ]
  },
  {
   "cell_type": "code",
   "execution_count": 13,
   "metadata": {},
   "outputs": [],
   "source": [
    "import os\n",
    "import numpy as np\n",
    "from keras.preprocessing import image\n",
    "import cv2\n",
    "import dlib\n",
    "import pandas as pd\n",
    "from pathlib import PurePath\n",
    "#import defusedxml\n",
    "\n",
    "# PATH TO ALL IMAGES\n",
    "global basedir, image_paths, target_size\n",
    "#basedir = './AMLS_assignment20_21-/dataset_AMLS_20-21'\n",
    "basedir = './dataset_AMLS_20-21'\n",
    "basedir = os.path.join(basedir,'cartoon_set')\n",
    "#images_dir = basedir\n",
    "images_dir = os.path.join(basedir,'img')\n",
    "labels_filename = 'labels.csv'\n",
    "\n",
    "detector = dlib.get_frontal_face_detector()\n",
    "predictor = dlib.shape_predictor('shape_predictor_68_face_landmarks.dat')\n",
    "def shape_to_np(shape, dtype=\"int\"):\n",
    "    # initialize the list of (x, y)-coordinates\n",
    "    coords = np.zeros((shape.num_parts, 2), dtype=dtype)\n",
    "\n",
    "    # loop over all facial landmarks and convert them\n",
    "    # to a 2-tuple of (x, y)-coordinates\n",
    "    for i in range(0, shape.num_parts):\n",
    "        coords[i] = (shape.part(i).x, shape.part(i).y)\n",
    "\n",
    "    # return the list of (x, y)-coordinates\n",
    "    return coords\n",
    "\n",
    "def rect_to_bb(rect):\n",
    "    # take a bounding predicted by dlib and convert it\n",
    "    # to the format (x, y, w, h) as we would normally do\n",
    "    # with OpenCV\n",
    "    x = rect.left()\n",
    "    y = rect.top()\n",
    "    w = rect.right() - x\n",
    "    h = rect.bottom() - y\n",
    "\n",
    "    # return a tuple of (x, y, w, h)\n",
    "    return (x, y, w, h)\n",
    "\n",
    "\n",
    "def run_dlib_shape(image):\n",
    "    # in this function we load the image, detect the landmarks of the face, and then return the image and the landmarks\n",
    "    # load the input image, resize it, and convert it to grayscale\n",
    "    resized_image = image.astype('uint8')\n",
    "\n",
    "    gray = cv2.cvtColor(resized_image, cv2.COLOR_BGR2GRAY)\n",
    "    gray = gray.astype('uint8')\n",
    "\n",
    "    # detect faces in the grayscale image\n",
    "    rects = detector(gray, 1)\n",
    "    num_faces = len(rects)\n",
    "\n",
    "    if num_faces == 0:\n",
    "        return None, resized_image\n",
    "\n",
    "    face_areas = np.zeros((1, num_faces))\n",
    "    face_shapes = np.zeros((136, num_faces), dtype=np.int64)\n",
    "\n",
    "    # loop over the face detections\n",
    "    for (i, rect) in enumerate(rects):\n",
    "        # determine the facial landmarks for the face region, then\n",
    "        # convert the facial landmark (x, y)-coordinates to a NumPy\n",
    "        # array\n",
    "        temp_shape = predictor(gray, rect)\n",
    "        temp_shape = shape_to_np(temp_shape)\n",
    "\n",
    "        # convert dlib's rectangle to a OpenCV-style bounding box\n",
    "        # [i.e., (x, y, w, h)],\n",
    "        #   (x, y, w, h) = face_utils.rect_to_bb(rect)\n",
    "        (x, y, w, h) = rect_to_bb(rect)\n",
    "        face_shapes[:, i] = np.reshape(temp_shape, [136])\n",
    "        face_areas[0, i] = w * h\n",
    "    # find largest face and keep\n",
    "    dlibout = np.reshape(np.transpose(face_shapes[:, np.argmax(face_areas)]), [68, 2])\n",
    "\n",
    "    return dlibout, resized_image\n",
    "\n",
    "# def listToString(s):\n",
    "#     str1 = \" \"\n",
    "#     return (str1.join(s))\n",
    "\n",
    "def extract_features_labels():\n",
    "    \"\"\"\n",
    "    This funtion extracts the landmarks features for all images in the folder 'dataset/celeba'.\n",
    "    It also extracts the gender label for each image.\n",
    "    :return:\n",
    "        landmark_features:  an array containing 68 landmark points for each image in which a face was detected\n",
    "        gender_labels:      an array containing the gender label (male=0 and female=1) for each image in\n",
    "                            which a face was detected\n",
    "    \"\"\"\n",
    "    #print(images_dir)\n",
    "    image_paths = [os.path.join(images_dir, l) for l in os.listdir(images_dir)]\n",
    "    target_size = None\n",
    "    \n",
    "    # name = ['eye_color', 'face_shape']\n",
    "    #data = pd.read_csv('./dataset_AMLS_20-21/celeba/labels.csv',sep='\\t',header=0,names = name)\n",
    "    data = pd.read_csv(os.path.join(basedir, labels_filename),sep='\\t')\n",
    "#     Y_A10=data['gender']\n",
    "#     Y_A11=data['smiling']\n",
    "#     y_1 = Y_A10\n",
    "#     y_2 = Y_A11\n",
    "    eye = data['eye_color']\n",
    "    faceshape = data['face_shape']\n",
    "    #print(gender_labels[0:5])\n",
    "\n",
    "#     labels_file = open(os.path.join(basedir, labels_filename), 'r')\n",
    "#     lines = labels_file.readlines() \n",
    "# # from list get str get array symbols\n",
    "# for i in range(len(rows)):\n",
    "#     str0 = listToString(rows[i])\n",
    "#     y = str0.split('\\t')\n",
    "#     y = np.array(y)\n",
    "#     Y_A1[i,0] = y[2]\n",
    "#     Y_A1[i,1] = y[3]\n",
    "#     #str = str+str0\n",
    "    #gender_labels = {listToString(line).split('\\t')[0] : int(listToString(line).split('\\t')[3]) for line in lines[1:]}\n",
    "    #gender_labels = {listToString(line).split('\\t')[3] for line in lines[1:]}\n",
    "\n",
    "#test    \n",
    "#     for line in lines[1:10]:\n",
    "#         #print(line)\n",
    "#         gender_labels.append(listToString(line).split('\\t')[2])\n",
    "#         a = listToString(line).split('\\t')\n",
    "#         print(np.array(a)[2])\n",
    "#     #gender_labels = np.array(gender_labels)\n",
    "                      \n",
    "    if os.path.isdir(images_dir):\n",
    "        all_features = []\n",
    "        all_labels = []\n",
    "        for img_path in image_paths:\n",
    "            #print(img_path)\n",
    "            file_name= PurePath(img_path.split('.')[1]).parts[-1]\n",
    "            file_name=int(file_name)\n",
    "            #print(file_name)\n",
    "            # load image\n",
    "            img = image.img_to_array(\n",
    "                image.load_img(img_path,\n",
    "                               target_size=target_size,\n",
    "                               interpolation='bicubic'))\n",
    "            #print(img)\n",
    "            features, _ = run_dlib_shape(img)\n",
    "            #print(features)\n",
    "            if features is not None:\n",
    "                all_features.append(features)\n",
    "                #print(gender_labels[file_name])\n",
    "                all_labels.append(eye[file_name])\n",
    "                #all_labels.append(gender_labels[file_name])\n",
    "    #print(all_labels)\n",
    "\n",
    "    landmark_features = np.array(all_features)\n",
    "#     labels = (np.array(all_labels, dtype=float) + 1)/2 # simply converts the -1 into 0, so male=0 and female=1\n",
    "    labels = np.array(all_labels)\n",
    "    return landmark_features, labels"
   ]
  },
  {
   "cell_type": "code",
   "execution_count": 20,
   "metadata": {},
   "outputs": [
    {
     "name": "stdout",
     "output_type": "stream",
     "text": [
      "(6146, 68, 2) (2049, 68, 2)\n"
     ]
    }
   ],
   "source": [
    "tr_X, tr_Y, te_X, te_Y= get_data()\n",
    "print(tr_X.shape, te_X.shape)"
   ]
  },
  {
   "cell_type": "code",
   "execution_count": 28,
   "metadata": {},
   "outputs": [
    {
     "name": "stdout",
     "output_type": "stream",
     "text": [
      "[1 4 3 1 0]\n",
      "[[0.34907598 0.53798768]\n",
      " [0.35318275 0.58521561]\n",
      " [0.3613963  0.63039014]\n",
      " [0.37577002 0.67351129]\n",
      " [0.3963039  0.71457906]\n",
      " [0.42299795 0.74537988]\n",
      " [0.45379877 0.77412731]\n",
      " [0.4825462  0.79671458]\n",
      " [0.51129363 0.80698152]\n",
      " [0.53798768 0.80082136]\n",
      " [0.5687885  0.7761807 ]\n",
      " [0.60164271 0.74537988]\n",
      " [0.62833676 0.71252567]\n",
      " [0.65092402 0.67145791]\n",
      " [0.66324435 0.62833676]\n",
      " [0.66940452 0.58726899]\n",
      " [0.67351129 0.54414784]\n",
      " [0.38603696 0.49691992]\n",
      " [0.40451745 0.4825462 ]\n",
      " [0.42915811 0.47433265]\n",
      " [0.45585216 0.48049281]\n",
      " [0.47638604 0.49486653]\n",
      " [0.5523614  0.49281314]\n",
      " [0.57494867 0.4825462 ]\n",
      " [0.59958932 0.47843943]\n",
      " [0.62422998 0.48665298]\n",
      " [0.6386037  0.49897331]\n",
      " [0.51540041 0.52977413]\n",
      " [0.51540041 0.56057495]\n",
      " [0.51540041 0.59137577]\n",
      " [0.51540041 0.62422998]\n",
      " [0.4825462  0.63244353]\n",
      " [0.49691992 0.6386037 ]\n",
      " [0.51540041 0.64476386]\n",
      " [0.52977413 0.64065708]\n",
      " [0.54414784 0.63244353]\n",
      " [0.41889117 0.53593429]\n",
      " [0.43531828 0.52566735]\n",
      " [0.45174538 0.52772074]\n",
      " [0.46817248 0.53798768]\n",
      " [0.45174538 0.54414784]\n",
      " [0.43326489 0.54209446]\n",
      " [0.56057495 0.53798768]\n",
      " [0.57700205 0.52772074]\n",
      " [0.59342916 0.52772074]\n",
      " [0.60985626 0.53798768]\n",
      " [0.59548255 0.54414784]\n",
      " [0.57700205 0.54414784]\n",
      " [0.45790554 0.68583162]\n",
      " [0.47638604 0.67351129]\n",
      " [0.49897331 0.67145791]\n",
      " [0.51334702 0.67351129]\n",
      " [0.52772074 0.67145791]\n",
      " [0.54825462 0.67351129]\n",
      " [0.56673511 0.68583162]\n",
      " [0.54825462 0.72073922]\n",
      " [0.52772074 0.73921971]\n",
      " [0.51334702 0.7412731 ]\n",
      " [0.49897331 0.73921971]\n",
      " [0.47433265 0.72073922]\n",
      " [0.46406571 0.68583162]\n",
      " [0.49897331 0.67967146]\n",
      " [0.51334702 0.68172485]\n",
      " [0.52772074 0.67967146]\n",
      " [0.56057495 0.68583162]\n",
      " [0.52772074 0.72073922]\n",
      " [0.51334702 0.724846  ]\n",
      " [0.49897331 0.72073922]]\n"
     ]
    }
   ],
   "source": [
    "tr_X = tr_X/tr_X.max()\n",
    "te_X = te_X/te_X.max()\n",
    "print(tr_Y[0:5])\n",
    "print(tr_X[0,:,:])"
   ]
  },
  {
   "cell_type": "code",
   "execution_count": 37,
   "metadata": {},
   "outputs": [],
   "source": [
    "# sklearn functions implementation\n",
    "def img_SVM(training_images, training_labels, test_images, test_labels):\n",
    "    classifier = svm.LinearSVC(penalty='l1', dual=False, multi_class='ovr', random_state=None, max_iter=10000)\n",
    "#     LinearSVC(penalty='l2', loss='squared_hinge', *, dual=True, tol=0.0001, C=1.0, multi_class='ovr', fit_intercept=True, intercept_scaling=1, class_weight=None, verbose=0, random_state=None, max_iter=1000)\n",
    "    classifier.fit(training_images, training_labels)\n",
    "    pred = classifier.predict(test_images)\n",
    "    print(\"Accuracy:\", accuracy_score(test_labels, pred))\n",
    "\n",
    "   # print(pred)\n",
    "    return pred"
   ]
  },
  {
   "cell_type": "code",
   "execution_count": 38,
   "metadata": {},
   "outputs": [
    {
     "name": "stdout",
     "output_type": "stream",
     "text": [
      "Accuracy: 0.3504148365056125\n"
     ]
    },
    {
     "name": "stderr",
     "output_type": "stream",
     "text": [
      "C:\\Users\\93554\\anaconda3\\envs\\mytf\\lib\\site-packages\\sklearn\\svm\\_base.py:977: ConvergenceWarning: Liblinear failed to converge, increase the number of iterations.\n",
      "  \"the number of iterations.\", ConvergenceWarning)\n"
     ]
    }
   ],
   "source": [
    "#svm.LinearSVC()：Accuracy: 0.21473889702293802,failed to converge；max_iter=5000:Accuracy: 0.21815519765739386failed converge= =；\n",
    "#图像归一化后max_iter=5000&10000:Accuracy: 0.3430941922889214 converge;\n",
    "# pred = img_SVM(x_train.reshape((x_train.shape[0], x_train.shape[1]*x_train.shape[2])), y_train, x_test.reshape((x_test.shape[0], x_test.shape[1]*x_test.shape[2])), y_test)\n",
    "pred = img_SVM(tr_X.reshape(6146,136), tr_Y, te_X.reshape(2049,136), te_Y)"
   ]
  },
  {
   "cell_type": "code",
   "execution_count": null,
   "metadata": {},
   "outputs": [],
   "source": []
  }
 ],
 "metadata": {
  "kernelspec": {
   "display_name": "Python 3",
   "language": "python",
   "name": "python3"
  },
  "language_info": {
   "codemirror_mode": {
    "name": "ipython",
    "version": 3
   },
   "file_extension": ".py",
   "mimetype": "text/x-python",
   "name": "python",
   "nbconvert_exporter": "python",
   "pygments_lexer": "ipython3",
   "version": "3.6.12"
  }
 },
 "nbformat": 4,
 "nbformat_minor": 4
}
