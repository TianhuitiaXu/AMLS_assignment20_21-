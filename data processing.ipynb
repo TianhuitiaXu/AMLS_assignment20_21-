{
 "cells": [
  {
   "cell_type": "code",
   "execution_count": 63,
   "metadata": {},
   "outputs": [
    {
     "name": "stdout",
     "output_type": "stream",
     "text": [
      "(2, 2)\n"
     ]
    }
   ],
   "source": [
    "Y = np.zeros(4)\n",
    "Y = Y.reshape(2,2)\n",
    "print(Y.shape)"
   ]
  },
  {
   "cell_type": "code",
   "execution_count": 97,
   "metadata": {},
   "outputs": [
    {
     "name": "stdout",
     "output_type": "stream",
     "text": [
      "[[-1  1]\n",
      " [-1  1]\n",
      " [ 1 -1]\n",
      " ...\n",
      " [ 1  1]\n",
      " [ 1  1]\n",
      " [ 1  1]]\n",
      "(5000, 2)\n"
     ]
    }
   ],
   "source": [
    "# wb = openpyxl.load_workbook('\\dataset_AMLS_20-21\\celeba\\labels.xlsx')\n",
    "# sheet = wb['new title']\n",
    "# sheetname = wb.sheetnames\n",
    "# print(sheetname)\n",
    "# A1_cell = sheet['A1']\n",
    "# A1_value = A1_cell.value\n",
    "# print(A1_value)\n",
    "\n",
    "import csv\n",
    "import numpy as np\n",
    "#csv_file = open('/Users/93554/AMLS_assignment20_21-/dataset_AMLS_20-21/celeba/labels.csv', 'r', newline = '', encoding = 'utf-8')\n",
    "csv_file = open('./dataset_AMLS_20-21/celeba/labels.csv', 'r', newline = '')\n",
    "\n",
    "#read cvs file\n",
    "reader = csv.reader(csv_file)\n",
    "rows= [row for row in reader]\n",
    "csv_file.close()\n",
    "\n",
    "#create symbols(gender,smiling)\n",
    "Y = np.zeros((5000,2),dtype='int64')\n",
    "#neglet the first row of names\n",
    "rows = rows[1:]\n",
    "\n",
    "# Function to convert   \n",
    "def listToString(s):  \n",
    "    \n",
    "    # initialize an empty string \n",
    "    str1 = \" \" \n",
    "    \n",
    "    # return string   \n",
    "    return (str1.join(s)) \n",
    "# from list get str get array symbols\n",
    "for i in range(len(rows)):\n",
    "    str0 = listToString(rows[i])\n",
    "    y = str0.split('\\t')\n",
    "    y = np.array(y)\n",
    "    #print(y)\n",
    "    Y[i,0] = y[2]\n",
    "    Y[i,1] = y[3]\n",
    "    #str = str+str0\n",
    "print(Y)\n",
    "print(Y.shape)\n",
    "\n",
    "\n"
   ]
  },
  {
   "cell_type": "code",
   "execution_count": null,
   "metadata": {},
   "outputs": [],
   "source": []
  },
  {
   "cell_type": "code",
   "execution_count": null,
   "metadata": {},
   "outputs": [],
   "source": []
  }
 ],
 "metadata": {
  "kernelspec": {
   "display_name": "Python 3",
   "language": "python",
   "name": "python3"
  },
  "language_info": {
   "codemirror_mode": {
    "name": "ipython",
    "version": 3
   },
   "file_extension": ".py",
   "mimetype": "text/x-python",
   "name": "python",
   "nbconvert_exporter": "python",
   "pygments_lexer": "ipython3",
   "version": "3.6.12"
  }
 },
 "nbformat": 4,
 "nbformat_minor": 4
}
