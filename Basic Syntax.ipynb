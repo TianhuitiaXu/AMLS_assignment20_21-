{
 "cells": [
  {
   "cell_type": "markdown",
   "metadata": {},
   "source": [
    "#basic arithmetic operation\n",
    "def paramEstimate(X_train, y_train, alpha):\n",
    "    n, d = X_train.shape # row and column number\n",
    "    I = np.identity(d)#identity matrix\n",
    "    L = np.dot(alpha, I) + np.dot(X_train.transpose(), X_train)#multiply, transpose(.T)\n",
    "    L_1 = np.linalg.inv(L)#inverse\n",
    "    w_rr = L_1.dot(X_train.transpose()).dot(y_train)#multiply:np.dot(A,B)/A.dot(B)\n",
    "    return w_rr\n",
    "#add intercept\n",
    "intercept = np.ones((xTrain.shape[0], 1))\n",
    "xTrain = np.concatenate((intercept, xTrain), axis=1)"
   ]
  },
  {
   "cell_type": "markdown",
   "metadata": {},
   "source": [
    "Python-Matplotlib 9 颜色和样式\n",
    "\n",
    " \n",
    "\n",
    "1 颜色\n",
    "　　八种内建默认颜色缩写\n",
    "　　b: blue\n",
    "　　g: green\n",
    "　　r: red\n",
    "　　c: cyan\n",
    "　　m: magenta\n",
    "　　y: yellow\n",
    "　　k: black\n",
    "　　w: white\n",
    "　　其他颜色表示方法\n",
    "　　　　灰色阴影\n",
    "　　　　html 十六进制\n",
    "　　　　RGB 元组\n",
    "\n",
    "2 点、线的样式\n",
    "　　23种点状态，注意不同点形状默认使用不同颜色\n",
    "　　4种线形\n",
    "　　　　- 实线\n",
    "　　　　-- 虚线\n",
    "　　　　-. 点划线\n",
    "　　　　: 点线\n",
    "\n",
    "3 式样字符串\n",
    "　　可以将颜色，点型，线型写成一个字符串\n",
    "　　　　cx--\n",
    "　　　　mo:\n",
    "　　　　kp-"
   ]
  },
  {
   "cell_type": "markdown",
   "metadata": {},
   "source": [
    "#######numpy basic"
   ]
  },
  {
   "cell_type": "code",
   "execution_count": 5,
   "metadata": {},
   "outputs": [
    {
     "data": {
      "text/plain": [
       "array([14.  +0.j, -3.54+0.j,  5.  +7.j])"
      ]
     },
     "execution_count": 5,
     "metadata": {},
     "output_type": "execute_result"
    }
   ],
   "source": [
    "import numpy as np\n",
    "my_list = [-17, 0, 4]\n",
    "my_array_from_list = np.array(my_list)\n",
    "my_tuple = (14, -3.54, 5+7j )\n",
    "np.array(my_tuple)\n",
    "np.arange(10,23)#返回integers instead of floating point values\n",
    "#how to get length of an array\n",
    "len(np.arange(10,23))\n",
    "my_arange_array = np.arange(10,23)\n",
    "my_arange_array.size\n",
    "np.array(10,23,5)\n",
    "np.array(10, 26, step=5)\n",
    "np.linspace(5, 15, 9)#返回integers instead of floating point values\n",
    "my_linsapce = np.linspace(5,15,9, retstep=True)\n",
    "\n",
    "np.zeros(5)#返回floating point values\n",
    "np.ones(5)\n",
    "np.zeros((5,4))\n",
    "np.zeros((5,4,3))\n",
    "np.zeros(11,dtype='int64')"
   ]
  },
  {
   "cell_type": "markdown",
   "metadata": {},
   "source": [
    "Difference between python and numpy data structures"
   ]
  },
  {
   "cell_type": "code",
   "execution_count": 6,
   "metadata": {},
   "outputs": [
    {
     "data": {
      "text/plain": [
       "(14,\n",
       " -3.54,\n",
       " (5+7j),\n",
       " 14,\n",
       " -3.54,\n",
       " (5+7j),\n",
       " 14,\n",
       " -3.54,\n",
       " (5+7j),\n",
       " 14,\n",
       " -3.54,\n",
       " (5+7j),\n",
       " 14,\n",
       " -3.54,\n",
       " (5+7j),\n",
       " 14,\n",
       " -3.54,\n",
       " (5+7j))"
      ]
     },
     "execution_count": 6,
     "metadata": {},
     "output_type": "execute_result"
    }
   ],
   "source": [
    "my_tuple * 6"
   ]
  },
  {
   "cell_type": "code",
   "execution_count": 7,
   "metadata": {},
   "outputs": [
    {
     "data": {
      "text/plain": [
       "array([ 84.   +0.j, -21.24 +0.j,  30.  +42.j])"
      ]
     },
     "execution_count": 7,
     "metadata": {},
     "output_type": "execute_result"
    }
   ],
   "source": [
    "np.array(my_tuple)*6"
   ]
  },
  {
   "cell_type": "markdown",
   "metadata": {},
   "source": [
    "Index, Slice, and Iterate"
   ]
  },
  {
   "cell_type": "code",
   "execution_count": null,
   "metadata": {},
   "outputs": [],
   "source": [
    "my_vector = np.array([-17,-4, 0, 2])\n",
    "my_vector[0]\n",
    "my_vector[-3]\n",
    "my_vector[305 % my_vector.size]\n",
    "\n",
    "my_array = np.arange(35)\n",
    "my_array.shape = (7,5)\n",
    "my_array[2]#the third row\n",
    "my_array[5,2]\n",
    "my_3D_array = np.arange(70)\n",
    "my_3D_array.shape = (2,7,5)"
   ]
  },
  {
   "cell_type": "markdown",
   "metadata": {},
   "source": [
    "Boolean mask arrays"
   ]
  },
  {
   "cell_type": "code",
   "execution_count": null,
   "metadata": {},
   "outputs": [],
   "source": [
    "my_vector = np.array([-17,-4, 0, 2])\n",
    "zero_mod_7_mask = 0 ==(my_vector % 7)\n",
    "sub_array = my_vector[zero_mod_7_mask]\n",
    "sub_array[sub_array>0]"
   ]
  },
  {
   "cell_type": "markdown",
   "metadata": {},
   "source": [
    "Numpy logical operators"
   ]
  },
  {
   "cell_type": "code",
   "execution_count": null,
   "metadata": {},
   "outputs": [],
   "source": [
    "mod_test = 0 ==(my_vector % 7)\n",
    "positve_test = my_vector > 0\n",
    "combined_mask = np.logical_and(mod_test, positive_test)\n",
    "my_vector[combined_mask]\n",
    "#when dealing with large array, numpy may be more efficient"
   ]
  }
 ],
 "metadata": {
  "kernelspec": {
   "display_name": "Python 3",
   "language": "python",
   "name": "python3"
  },
  "language_info": {
   "codemirror_mode": {
    "name": "ipython",
    "version": 3
   },
   "file_extension": ".py",
   "mimetype": "text/x-python",
   "name": "python",
   "nbconvert_exporter": "python",
   "pygments_lexer": "ipython3",
   "version": "3.6.12"
  }
 },
 "nbformat": 4,
 "nbformat_minor": 4
}
