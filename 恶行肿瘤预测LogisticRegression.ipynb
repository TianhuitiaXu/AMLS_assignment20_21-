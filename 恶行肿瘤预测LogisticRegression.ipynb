{
 "cells": [
  {
   "cell_type": "code",
   "execution_count": 60,
   "metadata": {},
   "outputs": [
    {
     "name": "stdout",
     "output_type": "stream",
     "text": [
      "<class 'numpy.ndarray'>\n"
     ]
    }
   ],
   "source": [
    "import pandas as pd\n",
    "import numpy as np\n",
    " \n",
    "# 根据官方数据构建类别\n",
    "column_names = ['Sample code number','Clump Thickness','Uniformity of Cell Size','Uniformity of Cell Shape','Marginal Adhesion','Single Epithelial Cell Size','Bare Nuclei','Bland Chromatin','Normal Nucleoli','Mitoses','Class'],\n",
    " \n",
    "data = pd.read_csv('https://archive.ics.uci.edu/ml/machine-learning-databases/breast-cancer-wisconsin/breast-cancer-wisconsin.data')\n",
    " \n",
    "#将？替换成标准缺失值表示\n",
    "data = data.replace(to_replace='?',value = np.nan)\n",
    " \n",
    "# 丢弃带有缺失值的数据（只要一个维度有缺失）\n",
    "data = data.dropna(how='any')\n",
    " \n",
    "data = data.values\n",
    "#print(data[:,10])\n",
    "for i in range(data.shape[0]):\n",
    "    data[i,6] = int(data[i,6])\n",
    "\n",
    "for i in range(data.shape[0]):\n",
    "    if data[i,10] == 2:\n",
    "        data[i,10] = 0\n",
    "    else:\n",
    "        data[i,10] = 1\n",
    "        \n",
    "\n",
    "from sklearn.model_selection import train_test_split\n",
    " \n",
    "X_train,X_test,y_train,y_test = train_test_split(data[:,0:10],data[:,10],test_size=0.25,random_state=42)\n",
    "y_train = y_train.astype('int')\n",
    "y_test = y_test.astype('int')\n",
    " \n",
    "# 查看训练和测试样本的数量和类别分布\n",
    "# y_train.value_counts()\n",
    " \n",
    "# y_test.value_counts()\n",
    "print(type(y_train))\n"
   ]
  },
  {
   "cell_type": "code",
   "execution_count": 61,
   "metadata": {},
   "outputs": [
    {
     "name": "stdout",
     "output_type": "stream",
     "text": [
      "[0 0 1 1 0 0 0 0 0 0 0 0 0 0 1 1 0 0 1 0 0 1 0 1 0 1 0 0 0 0 1 1 0 0 1 0 0\n",
      " 1 0 1 0 0 1 0 0 0 0 0 0 1 0 0 1 0 0 1 0 0 0 0 1 0 0 1 0 0 1 0 1 0 0 1 0 1\n",
      " 1 0 0 0 0 1 1 0 0 0 1 0 1 1 0 0 0 0 1 0 0 0 1 0 1 1 0 0 0 1 0 0 1 0 1 0 0\n",
      " 0 0 0 1 1 1 0 1 0 0 0 0 0 1 0 0 0 1 1 0 0 0 1 0 0 0 0 1 0 0 1 0 1 1 0 0 0\n",
      " 0 0 0 1 0 0 1 1 0 1 1 1 0 0 1 0 0 0 1 1 0 1 0 1 0 0 1 0 1 0 1 0 0 0 1 0 0\n",
      " 0 1 0 0 0 0 0 0 0 0 1 0 0 0 0 1 0 0 1 0 0 0 0 0 0 1 1 0 1 1 0 0 1 0 0 0 1\n",
      " 0 1 1 0 1 0 0 0 0 0 0 1 0 0 0 1 1 0 0 0 0 0 1 0 1 1 0 1 0 0 0 0 0 0 1 1 0\n",
      " 0 1 1 0 0 0 0 0 1 1 0 1 1 0 0 0 1 0 0 0 0 0 1 0 0 1 1 1 0 0 0 0 1 0 0 0 0\n",
      " 1 1 1 1 1 1 0 1 0 0 1 0 0 1 1 0 1 0 1 0 1 0 0 0 1 1 1 1 0 1 1 0 1 0 0 0 1\n",
      " 0 0 0 0 0 0 1 1 0 0 0 1 0 0 0 0 0 0 0 0 1 0 0 0 0 0 0 1 0 0 0 0 1 1 1 0 1\n",
      " 0 0 1 0 0 0 0 0 0 1 1 0 0 0 1 0 0 0 1 0 0 1 1 1 0 0 1 1 1 0 0 1 0 0 1 0 0\n",
      " 0 0 0 1 0 0 0 0 0 1 1 1 1 0 0 0 1 1 0 1 0 0 0 1 1 0 1 1 0 0 1 1 0 0 1 0 0\n",
      " 0 1 0 0 0 0 0 0 1 0 0 0 1 0 0 0 1 0 1 1 0 0 1 1 0 0 0 0 0 1 0 0 1 0 0 0 0\n",
      " 1 0 1 0 1 1 0 1 0 0 1 1 0 0 1 0 0 0 0 0 1 1 1 0 1 1 1 0 0 1]\n",
      "精确率为： 0.9649122807017544\n",
      "              precision    recall  f1-score   support\n",
      "\n",
      "      Benign       0.96      0.98      0.97       112\n",
      "    Maligant       0.96      0.93      0.95        59\n",
      "\n",
      "    accuracy                           0.96       171\n",
      "   macro avg       0.96      0.96      0.96       171\n",
      "weighted avg       0.96      0.96      0.96       171\n",
      "\n"
     ]
    }
   ],
   "source": [
    "from sklearn.preprocessing import StandardScaler\n",
    "from sklearn.linear_model import LogisticRegression\n",
    " \n",
    " \n",
    "# 标准化数据，保证每个维度的特征数据方差为1，均值为0。使得预测结果不会被某些维度过大的特征值而主导\n",
    "ss = StandardScaler()\n",
    " \n",
    "X_train = ss.fit_transform(X_train)\n",
    "X_test = ss.transform(X_test)\n",
    " \n",
    "# 初始化 LogisticRegression\n",
    " \n",
    "lr = LogisticRegression(C=1.0, penalty='l2', tol=0.01)\n",
    "print(y_train)\n",
    "# 跳用LogisticRegression中的fit函数／模块来训练模型参数\n",
    "lr.fit(X_train,y_train)\n",
    " \n",
    "lr_y_predict = lr.predict(X_test)\n",
    "\n",
    "from sklearn.metrics import classification_report\n",
    " \n",
    "# 利用逻辑斯蒂回归自带的评分函数score获得模型在测试集上的准确定结果\n",
    "print ('精确率为：',lr.score(X_test,y_test))\n",
    " \n",
    "print (classification_report(y_test,lr_y_predict,target_names = ['Benign','Maligant']))"
   ]
  },
  {
   "cell_type": "code",
   "execution_count": null,
   "metadata": {},
   "outputs": [],
   "source": []
  }
 ],
 "metadata": {
  "kernelspec": {
   "display_name": "Python 3",
   "language": "python",
   "name": "python3"
  },
  "language_info": {
   "codemirror_mode": {
    "name": "ipython",
    "version": 3
   },
   "file_extension": ".py",
   "mimetype": "text/x-python",
   "name": "python",
   "nbconvert_exporter": "python",
   "pygments_lexer": "ipython3",
   "version": "3.6.12"
  }
 },
 "nbformat": 4,
 "nbformat_minor": 4
}
